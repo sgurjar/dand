{
 "cells": [
  {
   "cell_type": "markdown",
   "metadata": {},
   "source": [
    "### 1. What is our independent variable? What is our dependent variable?\n",
    "* Independent variable: list of words\n",
    "* Dependent variable: time it takes to read list of words."
   ]
  },
  {
   "cell_type": "markdown",
   "metadata": {},
   "source": [
    "### 2. What is an appropriate set of hypotheses for this task? What kind of statistical test do you expect to perform? Justify your choices.\n",
    "\n",
    "- Null hypotheses, $H_0$, is there is no difference in the time taken to read in both cases, congruent and incongruent.\n",
    "- Alternate hypotheses, $H_A$, is time taken to read in both cases are different. This is two-tailed test.\n",
    "$$H_0 \\to \\mu_2 - \\mu_1 = 0$$\n",
    "$$H_A \\to \\mu_2 - \\mu_1 \\neq 0$$\n",
    "- We will do **dependent samples t-test** since two samples are related, done on the same population under different conditions."
   ]
  },
  {
   "cell_type": "markdown",
   "metadata": {},
   "source": [
    "### 3. Report some descriptive statistics regarding this dataset. Include at least one measure of central tendency and at least one measure of variability."
   ]
  },
  {
   "cell_type": "code",
   "execution_count": 2,
   "metadata": {
    "collapsed": false
   },
   "outputs": [
    {
     "name": "stdout",
     "output_type": "stream",
     "text": [
      "congruent  : mean=14.05, stddev=3.48\n",
      "incongruent: mean=22.02, stddev=4.70\n"
     ]
    }
   ],
   "source": [
    "import math\n",
    "\n",
    "with open('../datasets/stroopdata.csv') as f:\n",
    "    data = map(lambda x:x.split(','), f.readlines()[1:]) # skip header row\n",
    "    congruent = map(lambda x: float(x[0]),data)\n",
    "    incongruent = map(lambda x: float(x[1]),data)\n",
    "    \n",
    "    mu = sum(congruent)/len(congruent)\n",
    "    std = math.sqrt(sum([(x - mu)**2 for x in congruent])/len(congruent))\n",
    "    print 'congruent  : mean=%.2f, stddev=%.2f' % (mu, std)\n",
    "    \n",
    "    mu = sum(incongruent)/len(incongruent)\n",
    "    std = math.sqrt(sum([(x - mu)**2 for x in incongruent])/len(incongruent))\n",
    "    print 'incongruent: mean=%.2f, stddev=%.2f' % (mu, std)"
   ]
  },
  {
   "cell_type": "markdown",
   "metadata": {},
   "source": [
    "### 4. Provide one or two visualizations that show the distribution of the sample data. Write one or two sentences noting what you observe about the plot or plots."
   ]
  },
  {
   "cell_type": "code",
   "execution_count": 3,
   "metadata": {
    "collapsed": false
   },
   "outputs": [
    {
     "data": {
      "text/plain": [
       "<matplotlib.collections.LineCollection at 0x41182b0>"
      ]
     },
     "execution_count": 3,
     "metadata": {},
     "output_type": "execute_result"
    },
    {
     "data": {
      "image/png": "[encoded data removed]",
      "text/plain": [
       "<matplotlib.figure.Figure at 0x4118390>"
      ]
     },
     "metadata": {},
     "output_type": "display_data"
    }
   ],
   "source": [
    "%matplotlib inline\n",
    "import pylab as P\n",
    "P.hist(congruent, 8)\n",
    "P.vlines(14.05,ymin=0,ymax=6,colors='red') # mean"
   ]
  },
  {
   "cell_type": "code",
   "execution_count": 4,
   "metadata": {
    "collapsed": false
   },
   "outputs": [
    {
     "data": {
      "text/plain": [
       "<matplotlib.collections.LineCollection at 0xa9a5f98>"
      ]
     },
     "execution_count": 4,
     "metadata": {},
     "output_type": "execute_result"
    },
    {
     "data": {
      "image/png": "[encoded data removed]",
      "text/plain": [
       "<matplotlib.figure.Figure at 0xaa18710>"
      ]
     },
     "metadata": {},
     "output_type": "display_data"
    }
   ],
   "source": [
    "%matplotlib inline\n",
    "import pylab as P\n",
    "P.hist(incongruent, 8)\n",
    "P.vlines(22.02,ymin=0,ymax=7,colors='red') # mean"
   ]
  },
  {
   "cell_type": "markdown",
   "metadata": {},
   "source": [
    "* **Congruent data** shows bimodal distribution. Frequency between 9 and 10 is higher, however most of the frequency still around mean.\n",
    "* **incongruent data** shows approximately normal distribution. There are missing data points between 27 and 32. "
   ]
  },
  {
   "cell_type": "markdown",
   "metadata": {},
   "source": [
    "### 5. Now, perform the statistical test and report your results. What is your confidence level and your critical statistic value? Do you reject the null hypothesis or fail to reject it? Come to a conclusion in terms of the experiment task. Did the results match up with your expectations?\n",
    "\n",
    "Formula for repeated measures t-test, for two pre and post samples-\n",
    "\n",
    "$$t = \\frac{\\bar{d} - (\\mu_1 - \\mu_2)}{\\frac{S_d}{\\sqrt{n}}}$$\n",
    "\n",
    "* Where\n",
    "    - $\\bar{d}$ = mean of the differences between post(incongruent) and pre(congruent) samples\n",
    "    - $\\mu_1$ and $\\mu_2$ are population means of two samples\n",
    "    - $S_d$ is std dev of difference \n",
    "    - $n$ is number of samples (`24` in this example)\n",
    "    \n",
    "**Null hypothesis:** There are no differece in the timing of reading in congruent and incongruent test, that mean population mean of both tests are same.\n",
    "$$H_0 \\to \\mu_1 = \\mu_2$$\n",
    "\n",
    "**Alternative hypothesis:** Timing of reading in congruent and incongruent test are different.\n",
    "$$H_A \\to \\mu_1 \\neq \\mu_2$$\n",
    "\n",
    "* According to Null hypothesis $\\mu_1 - \\mu_2=0$, which makes out $t$ formula as following-\n",
    "$$t = \\frac{\\bar{d}}{\\frac{S_d}{\\sqrt{n}}}$$\n",
    "\n",
    "* for two-tailed test\n",
    "$$\\alpha \\quad level = 0.05$$\n",
    "$$df = n -1 = 23$$\n",
    "$$t_{cirtical} = 2.064$$"
   ]
  },
  {
   "cell_type": "code",
   "execution_count": 5,
   "metadata": {
    "collapsed": false
   },
   "outputs": [
    {
     "name": "stdout",
     "output_type": "stream",
     "text": [
      "t=8.19\n"
     ]
    }
   ],
   "source": [
    "diff = [i - c for c, i in zip(congruent, incongruent)]\n",
    "d_bar = sum(diff)/len(diff)\n",
    "s_d = math.sqrt(sum([(x - d_bar)**2 for x in diff])/len(diff))\n",
    "t = d_bar / (s_d/math.sqrt(len(diff)))\n",
    "print \"t=%.2f\" % t"
   ]
  },
  {
   "cell_type": "markdown",
   "metadata": {},
   "source": [
    "* $t$ is $8.19$ which is far right from the $t_{critical}$, and we reject the null hypothesis as $p < 0.05$\n",
    "* $t$ is positive very large than $t_{critical}$, which means timings in incongruent test is very high and subjects took longer read words."
   ]
  },
  {
   "cell_type": "markdown",
   "metadata": {},
   "source": [
    "### 6. Optional: What do you think is responsible for the effects observed? Can you think of an alternative or similar task that would result in a similar effect? Some research about the problem will be helpful for thinking about these two questions!\n",
    "\n",
    "People find it hard to read what color words are written, when word's color is different than word written."
   ]
  }
 ],
 "metadata": {
  "kernelspec": {
   "display_name": "Python 2",
   "language": "python",
   "name": "python2"
  },
  "language_info": {
   "codemirror_mode": {
    "name": "ipython",
    "version": 2
   },
   "file_extension": ".py",
   "mimetype": "text/x-python",
   "name": "python",
   "nbconvert_exporter": "python",
   "pygments_lexer": "ipython2",
   "version": "2.7.10"
  }
 },
 "nbformat": 4,
 "nbformat_minor": 0
}
