{
 "cells": [
  {
   "cell_type": "code",
   "execution_count": 175,
   "metadata": {
    "collapsed": false
   },
   "outputs": [],
   "source": [
    "import pandas as pd\n",
    "import numpy as np\n",
    "import matplotlib.pyplot as plt\n",
    "import seaborn as sns\n",
    "%matplotlib inline"
   ]
  },
  {
   "cell_type": "code",
   "execution_count": 176,
   "metadata": {
    "collapsed": false
   },
   "outputs": [
    {
     "data": {
      "text/plain": [
       "'0.16.2'"
      ]
     },
     "execution_count": 176,
     "metadata": {},
     "output_type": "execute_result"
    }
   ],
   "source": [
    "pd.__version__"
   ]
  },
  {
   "cell_type": "code",
   "execution_count": 177,
   "metadata": {
    "collapsed": true
   },
   "outputs": [],
   "source": [
    "sns.set_palette(\"deep\") # deep, muted, pastel, bright, dark, and colorblind"
   ]
  },
  {
   "cell_type": "code",
   "execution_count": 178,
   "metadata": {
    "collapsed": true
   },
   "outputs": [],
   "source": [
    "df = pd.read_csv('titanic_data.csv')"
   ]
  },
  {
   "cell_type": "code",
   "execution_count": 179,
   "metadata": {
    "collapsed": false
   },
   "outputs": [
    {
     "name": "stdout",
     "output_type": "stream",
     "text": [
      "<class 'pandas.core.frame.DataFrame'>\n",
      "Int64Index: 891 entries, 0 to 890\n",
      "Data columns (total 12 columns):\n",
      "PassengerId    891 non-null int64\n",
      "Survived       891 non-null int64\n",
      "Pclass         891 non-null int64\n",
      "Name           891 non-null object\n",
      "Sex            891 non-null object\n",
      "Age            714 non-null float64\n",
      "SibSp          891 non-null int64\n",
      "Parch          891 non-null int64\n",
      "Ticket         891 non-null object\n",
      "Fare           891 non-null float64\n",
      "Cabin          204 non-null object\n",
      "Embarked       889 non-null object\n",
      "dtypes: float64(2), int64(5), object(5)\n",
      "memory usage: 90.5+ KB\n"
     ]
    }
   ],
   "source": [
    "df.info(verbose=True)"
   ]
  },
  {
   "cell_type": "markdown",
   "metadata": {},
   "source": [
    "* 891 records\n",
    "* Cabin has most missing values\n",
    "* Age is missing to\n",
    "* Embarked is missing from 2 records"
   ]
  },
  {
   "cell_type": "markdown",
   "metadata": {},
   "source": [
    "## Estimating missing Embarked"
   ]
  },
  {
   "cell_type": "code",
   "execution_count": 180,
   "metadata": {
    "collapsed": false
   },
   "outputs": [
    {
     "data": {
      "text/plain": [
       "Southampton    0.722783\n",
       "Cherbourg      0.188552\n",
       "Queenstown     0.086420\n",
       "dtype: float64"
      ]
     },
     "execution_count": 180,
     "metadata": {},
     "output_type": "execute_result"
    }
   ],
   "source": [
    "# frequency count by Embarked\n",
    "df.Embarked.value_counts(normalize=True).rename({'C':'Cherbourg', 'Q':'Queenstown', 'S':'Southampton'})"
   ]
  },
  {
   "cell_type": "code",
   "execution_count": 181,
   "metadata": {
    "collapsed": false
   },
   "outputs": [
    {
     "data": {
      "text/html": [
       "<div>\n",
       "<table border=\"1\" class=\"dataframe\">\n",
       "  <thead>\n",
       "    <tr style=\"text-align: right;\">\n",
       "      <th></th>\n",
       "      <th>PassengerId</th>\n",
       "      <th>Survived</th>\n",
       "      <th>Pclass</th>\n",
       "      <th>Name</th>\n",
       "      <th>Sex</th>\n",
       "      <th>Age</th>\n",
       "      <th>SibSp</th>\n",
       "      <th>Parch</th>\n",
       "      <th>Ticket</th>\n",
       "      <th>Fare</th>\n",
       "      <th>Cabin</th>\n",
       "      <th>Embarked</th>\n",
       "    </tr>\n",
       "  </thead>\n",
       "  <tbody>\n",
       "    <tr>\n",
       "      <th>61</th>\n",
       "      <td>62</td>\n",
       "      <td>1</td>\n",
       "      <td>1</td>\n",
       "      <td>Icard, Miss. Amelie</td>\n",
       "      <td>female</td>\n",
       "      <td>38</td>\n",
       "      <td>0</td>\n",
       "      <td>0</td>\n",
       "      <td>113572</td>\n",
       "      <td>80</td>\n",
       "      <td>B28</td>\n",
       "      <td>NaN</td>\n",
       "    </tr>\n",
       "    <tr>\n",
       "      <th>829</th>\n",
       "      <td>830</td>\n",
       "      <td>1</td>\n",
       "      <td>1</td>\n",
       "      <td>Stone, Mrs. George Nelson (Martha Evelyn)</td>\n",
       "      <td>female</td>\n",
       "      <td>62</td>\n",
       "      <td>0</td>\n",
       "      <td>0</td>\n",
       "      <td>113572</td>\n",
       "      <td>80</td>\n",
       "      <td>B28</td>\n",
       "      <td>NaN</td>\n",
       "    </tr>\n",
       "  </tbody>\n",
       "</table>\n",
       "</div>"
      ],
      "text/plain": [
       "     PassengerId  Survived  Pclass                                       Name  \\\n",
       "61            62         1       1                        Icard, Miss. Amelie   \n",
       "829          830         1       1  Stone, Mrs. George Nelson (Martha Evelyn)   \n",
       "\n",
       "        Sex  Age  SibSp  Parch  Ticket  Fare Cabin Embarked  \n",
       "61   female   38      0      0  113572    80   B28      NaN  \n",
       "829  female   62      0      0  113572    80   B28      NaN  "
      ]
     },
     "execution_count": 181,
     "metadata": {},
     "output_type": "execute_result"
    }
   ],
   "source": [
    "# What are missing Embarked records ?\n",
    "df[df.Embarked.isnull()]"
   ]
  },
  {
   "cell_type": "code",
   "execution_count": 182,
   "metadata": {
    "collapsed": false
   },
   "outputs": [
    {
     "data": {
      "text/html": [
       "<div>\n",
       "<table border=\"1\" class=\"dataframe\">\n",
       "  <thead>\n",
       "    <tr style=\"text-align: right;\">\n",
       "      <th></th>\n",
       "      <th>count</th>\n",
       "      <th>mean</th>\n",
       "      <th>std</th>\n",
       "      <th>min</th>\n",
       "      <th>25%</th>\n",
       "      <th>50%</th>\n",
       "      <th>75%</th>\n",
       "      <th>95%</th>\n",
       "      <th>max</th>\n",
       "    </tr>\n",
       "    <tr>\n",
       "      <th>Embarked</th>\n",
       "      <th></th>\n",
       "      <th></th>\n",
       "      <th></th>\n",
       "      <th></th>\n",
       "      <th></th>\n",
       "      <th></th>\n",
       "      <th></th>\n",
       "      <th></th>\n",
       "      <th></th>\n",
       "    </tr>\n",
       "  </thead>\n",
       "  <tbody>\n",
       "    <tr>\n",
       "      <th>C</th>\n",
       "      <td>85</td>\n",
       "      <td>104.718529</td>\n",
       "      <td>99.093935</td>\n",
       "      <td>26.55</td>\n",
       "      <td>49.50</td>\n",
       "      <td>78.2667</td>\n",
       "      <td>110.8833</td>\n",
       "      <td>259.40416</td>\n",
       "      <td>512.3292</td>\n",
       "    </tr>\n",
       "    <tr>\n",
       "      <th>Q</th>\n",
       "      <td>2</td>\n",
       "      <td>90.000000</td>\n",
       "      <td>0.000000</td>\n",
       "      <td>90.00</td>\n",
       "      <td>90.00</td>\n",
       "      <td>90.0000</td>\n",
       "      <td>90.0000</td>\n",
       "      <td>90.00000</td>\n",
       "      <td>90.0000</td>\n",
       "    </tr>\n",
       "    <tr>\n",
       "      <th>S</th>\n",
       "      <td>127</td>\n",
       "      <td>70.364862</td>\n",
       "      <td>58.811278</td>\n",
       "      <td>0.00</td>\n",
       "      <td>29.25</td>\n",
       "      <td>52.0000</td>\n",
       "      <td>83.4750</td>\n",
       "      <td>211.33750</td>\n",
       "      <td>263.0000</td>\n",
       "    </tr>\n",
       "  </tbody>\n",
       "</table>\n",
       "</div>"
      ],
      "text/plain": [
       "          count        mean        std    min    25%      50%       75%  \\\n",
       "Embarked                                                                  \n",
       "C            85  104.718529  99.093935  26.55  49.50  78.2667  110.8833   \n",
       "Q             2   90.000000   0.000000  90.00  90.00  90.0000   90.0000   \n",
       "S           127   70.364862  58.811278   0.00  29.25  52.0000   83.4750   \n",
       "\n",
       "                95%       max  \n",
       "Embarked                       \n",
       "C         259.40416  512.3292  \n",
       "Q          90.00000   90.0000  \n",
       "S         211.33750  263.0000  "
      ]
     },
     "execution_count": 182,
     "metadata": {},
     "output_type": "execute_result"
    }
   ],
   "source": [
    "pclass1_by_embarked = df.loc[df.Pclass==1].groupby('Embarked')\n",
    "pclass1_by_embarked['Fare'].describe(percentiles=[.25,.5,.75,.95]).unstack()"
   ]
  },
  {
   "cell_type": "markdown",
   "metadata": {},
   "source": [
    "75% fare is under ~83 for embarked S with mean of ~70. We could assume that missing Embarked records are from S."
   ]
  },
  {
   "cell_type": "code",
   "execution_count": 183,
   "metadata": {
    "collapsed": false
   },
   "outputs": [],
   "source": [
    "# Populate the missing Embarked\n",
    "df.loc[df.Embarked.isnull(),'Embarked'] = 'S'"
   ]
  },
  {
   "cell_type": "markdown",
   "metadata": {},
   "source": [
    "## Families survive together\n",
    "Inspired by <https://www.kaggle.com/mrisdal/titanic/exploring-survival-on-the-titanic>"
   ]
  },
  {
   "cell_type": "code",
   "execution_count": 184,
   "metadata": {
    "collapsed": false
   },
   "outputs": [
    {
     "data": {
      "text/plain": [
       "count    891.000000\n",
       "mean       1.904602\n",
       "std        1.613459\n",
       "min        1.000000\n",
       "25%        1.000000\n",
       "50%        1.000000\n",
       "75%        2.000000\n",
       "95%        6.000000\n",
       "max       11.000000\n",
       "Name: FamilySize, dtype: float64"
      ]
     },
     "execution_count": 184,
     "metadata": {},
     "output_type": "execute_result"
    }
   ],
   "source": [
    "# Create new column FamilySize\n",
    "# FamilySize = SibSp + Parch + 1\n",
    "#            = Number of Siblings/Spouses Aboard \n",
    "#              + Number of Parents/Children Aboard\n",
    "#              + Themselves\n",
    "df['FamilySize'] = df['SibSp'] + df['Parch'] + 1\n",
    "df['FamilySize'].describe(percentiles=[.25,.5,.75,.95])"
   ]
  },
  {
   "cell_type": "markdown",
   "metadata": {},
   "source": [
    "Most have (75%) have family of 2 or less. "
   ]
  },
  {
   "cell_type": "markdown",
   "metadata": {},
   "source": [
    "#### Survival by FamilySize"
   ]
  },
  {
   "cell_type": "code",
   "execution_count": 185,
   "metadata": {
    "collapsed": false
   },
   "outputs": [
    {
     "data": {
      "text/html": [
       "<div>\n",
       "<table border=\"1\" class=\"dataframe\">\n",
       "  <thead>\n",
       "    <tr style=\"text-align: right;\">\n",
       "      <th></th>\n",
       "      <th>Dead</th>\n",
       "      <th>Survived</th>\n",
       "      <th>Total</th>\n",
       "      <th>%Survived</th>\n",
       "    </tr>\n",
       "    <tr>\n",
       "      <th>FamilySize</th>\n",
       "      <th></th>\n",
       "      <th></th>\n",
       "      <th></th>\n",
       "      <th></th>\n",
       "    </tr>\n",
       "  </thead>\n",
       "  <tbody>\n",
       "    <tr>\n",
       "      <th>1</th>\n",
       "      <td>374</td>\n",
       "      <td>163</td>\n",
       "      <td>537</td>\n",
       "      <td>0.30</td>\n",
       "    </tr>\n",
       "    <tr>\n",
       "      <th>2</th>\n",
       "      <td>72</td>\n",
       "      <td>89</td>\n",
       "      <td>161</td>\n",
       "      <td>0.55</td>\n",
       "    </tr>\n",
       "    <tr>\n",
       "      <th>3</th>\n",
       "      <td>43</td>\n",
       "      <td>59</td>\n",
       "      <td>102</td>\n",
       "      <td>0.58</td>\n",
       "    </tr>\n",
       "    <tr>\n",
       "      <th>4</th>\n",
       "      <td>8</td>\n",
       "      <td>21</td>\n",
       "      <td>29</td>\n",
       "      <td>0.72</td>\n",
       "    </tr>\n",
       "    <tr>\n",
       "      <th>5</th>\n",
       "      <td>12</td>\n",
       "      <td>3</td>\n",
       "      <td>15</td>\n",
       "      <td>0.20</td>\n",
       "    </tr>\n",
       "    <tr>\n",
       "      <th>6</th>\n",
       "      <td>19</td>\n",
       "      <td>3</td>\n",
       "      <td>22</td>\n",
       "      <td>0.14</td>\n",
       "    </tr>\n",
       "    <tr>\n",
       "      <th>7</th>\n",
       "      <td>8</td>\n",
       "      <td>4</td>\n",
       "      <td>12</td>\n",
       "      <td>0.33</td>\n",
       "    </tr>\n",
       "    <tr>\n",
       "      <th>8</th>\n",
       "      <td>6</td>\n",
       "      <td>0</td>\n",
       "      <td>6</td>\n",
       "      <td>0.00</td>\n",
       "    </tr>\n",
       "    <tr>\n",
       "      <th>11</th>\n",
       "      <td>7</td>\n",
       "      <td>0</td>\n",
       "      <td>7</td>\n",
       "      <td>0.00</td>\n",
       "    </tr>\n",
       "  </tbody>\n",
       "</table>\n",
       "</div>"
      ],
      "text/plain": [
       "            Dead  Survived  Total  %Survived\n",
       "FamilySize                                  \n",
       "1            374       163    537       0.30\n",
       "2             72        89    161       0.55\n",
       "3             43        59    102       0.58\n",
       "4              8        21     29       0.72\n",
       "5             12         3     15       0.20\n",
       "6             19         3     22       0.14\n",
       "7              8         4     12       0.33\n",
       "8              6         0      6       0.00\n",
       "11             7         0      7       0.00"
      ]
     },
     "execution_count": 185,
     "metadata": {},
     "output_type": "execute_result"
    }
   ],
   "source": [
    "d = pd.crosstab(df.FamilySize,df.Survived)\n",
    "d.columns = ['Dead','Survived']\n",
    "d['Total'] = d['Dead'] + d['Survived']\n",
    "d['%Survived'] = (d['Survived']/d['Total']).round(2);d"
   ]
  },
  {
   "cell_type": "markdown",
   "metadata": {},
   "source": [
    "Family size of 2 to 4 tends to survive more."
   ]
  },
  {
   "cell_type": "code",
   "execution_count": 186,
   "metadata": {
    "collapsed": false
   },
   "outputs": [
    {
     "data": {
      "text/plain": [
       "<matplotlib.axes._subplots.AxesSubplot at 0x234596d8>"
      ]
     },
     "execution_count": 186,
     "metadata": {},
     "output_type": "execute_result"
    },
    {
     "data": {
      "image/png": "[encoded data removed]",
      "text/plain": [
       "<matplotlib.figure.Figure at 0x22c3e240>"
      ]
     },
     "metadata": {},
     "output_type": "display_data"
    }
   ],
   "source": [
    "d[['Dead','Survived']].plot(kind='bar',figsize=(10,5),title='Survival by Family Size')"
   ]
  },
  {
   "cell_type": "markdown",
   "metadata": {},
   "source": [
    "Family size of 2 to 4 survived more than rest. Singles and large (`>4`) families had less chances of survival."
   ]
  },
  {
   "cell_type": "markdown",
   "metadata": {},
   "source": [
    "We can make it more clear by making a category variable, that separates data based on family size.\n",
    "* **Singleton**\n",
    "        Family Size == 1\n",
    "* **Small**\n",
    "        1 < Family Size <= 4\n",
    "* **Large**\n",
    "        Family Size > 4"
   ]
  },
  {
   "cell_type": "code",
   "execution_count": 187,
   "metadata": {
    "collapsed": false
   },
   "outputs": [
    {
     "data": {
      "text/plain": [
       "Singleton    537\n",
       "Small        292\n",
       "Large         62\n",
       "dtype: int64"
      ]
     },
     "execution_count": 187,
     "metadata": {},
     "output_type": "execute_result"
    }
   ],
   "source": [
    "df['FamilySizeD'] = pd.cut(df.FamilySize, [0,1,4,df.FamilySize.max()+1], labels=[\"Singleton\",\"Small\",\"Large\"])\n",
    "df.FamilySizeD.value_counts()"
   ]
  },
  {
   "cell_type": "code",
   "execution_count": 188,
   "metadata": {
    "collapsed": false
   },
   "outputs": [
    {
     "data": {
      "text/html": [
       "<div>\n",
       "<table border=\"1\" class=\"dataframe\">\n",
       "  <thead>\n",
       "    <tr style=\"text-align: right;\">\n",
       "      <th>Survived</th>\n",
       "      <th>dead</th>\n",
       "      <th>survived</th>\n",
       "      <th>%survived</th>\n",
       "    </tr>\n",
       "    <tr>\n",
       "      <th>FamilySizeD</th>\n",
       "      <th></th>\n",
       "      <th></th>\n",
       "      <th></th>\n",
       "    </tr>\n",
       "  </thead>\n",
       "  <tbody>\n",
       "    <tr>\n",
       "      <th>Singleton</th>\n",
       "      <td>374</td>\n",
       "      <td>163</td>\n",
       "      <td>0.30</td>\n",
       "    </tr>\n",
       "    <tr>\n",
       "      <th>Small</th>\n",
       "      <td>123</td>\n",
       "      <td>169</td>\n",
       "      <td>0.58</td>\n",
       "    </tr>\n",
       "    <tr>\n",
       "      <th>Large</th>\n",
       "      <td>52</td>\n",
       "      <td>10</td>\n",
       "      <td>0.16</td>\n",
       "    </tr>\n",
       "  </tbody>\n",
       "</table>\n",
       "</div>"
      ],
      "text/plain": [
       "Survived     dead  survived  %survived\n",
       "FamilySizeD                           \n",
       "Singleton     374       163       0.30\n",
       "Small         123       169       0.58\n",
       "Large          52        10       0.16"
      ]
     },
     "execution_count": 188,
     "metadata": {},
     "output_type": "execute_result"
    }
   ],
   "source": [
    "d=pd.crosstab(df.FamilySizeD,df.Survived)\n",
    "d['%survived'] = (d[1] / (d[0] + d[1])).round(2);\n",
    "d.rename(columns={0:'dead',1:'survived'})"
   ]
  },
  {
   "cell_type": "code",
   "execution_count": 189,
   "metadata": {
    "collapsed": false
   },
   "outputs": [
    {
     "data": {
      "text/plain": [
       "(<matplotlib.figure.Figure at 0x22c3e390>,\n",
       " OrderedDict([(('Singleton', '0'), (0.0, 0.0, 0.5967263393005967, 0.6941479982924702)), (('Singleton', '1'), (0.0, 0.69747025742868274, 0.5967263393005967, 0.30252974257131715)), (('Small', '0'), (0.6016768343501017, 0.0, 0.32447689213365777, 0.41983343193919809)), (('Small', '1'), (0.6016768343501017, 0.42315569107541073, 0.32447689213365777, 0.57684430892458916)), (('Large', '0'), (0.9311042215332644, 0.0, 0.06889577846673557, 0.83592326653091842)), (('Large', '1'), (0.9311042215332644, 0.83924552566713095, 0.06889577846673557, 0.16075447433286888))]))"
      ]
     },
     "execution_count": 189,
     "metadata": {},
     "output_type": "execute_result"
    },
    {
     "data": {
      "image/png": "[encoded data removed]",
      "text/plain": [
       "<matplotlib.figure.Figure at 0x22c3e390>"
      ]
     },
     "metadata": {},
     "output_type": "display_data"
    }
   ],
   "source": [
    "from statsmodels.graphics.mosaicplot import mosaic\n",
    "mosaic(pd.crosstab(df.FamilySizeD, df.Survived).stack())"
   ]
  },
  {
   "cell_type": "markdown",
   "metadata": {},
   "source": [
    "Mosica plot shows `Singleton` and `Large` families have survival penalty. While `Small` families dont."
   ]
  },
  {
   "cell_type": "markdown",
   "metadata": {},
   "source": [
    "## Effect of passenger's age on survival"
   ]
  },
  {
   "cell_type": "code",
   "execution_count": 190,
   "metadata": {
    "collapsed": false
   },
   "outputs": [
    {
     "data": {
      "text/plain": [
       "<matplotlib.axes._subplots.AxesSubplot at 0x235a8630>"
      ]
     },
     "execution_count": 190,
     "metadata": {},
     "output_type": "execute_result"
    },
    {
     "data": {
      "image/png": "[encoded data removed]",
      "text/plain": [
       "<matplotlib.figure.Figure at 0x22a7a940>"
      ]
     },
     "metadata": {},
     "output_type": "display_data"
    }
   ],
   "source": [
    "df.Age.plot(kind='hist')"
   ]
  },
  {
   "cell_type": "code",
   "execution_count": 191,
   "metadata": {
    "collapsed": false
   },
   "outputs": [
    {
     "data": {
      "text/plain": [
       "count    714.000000\n",
       "mean      29.699118\n",
       "std       14.526497\n",
       "min        0.420000\n",
       "25%       20.125000\n",
       "50%       28.000000\n",
       "75%       38.000000\n",
       "max       80.000000\n",
       "Name: Age, dtype: float64"
      ]
     },
     "execution_count": 191,
     "metadata": {},
     "output_type": "execute_result"
    }
   ],
   "source": [
    "df.Age.describe()"
   ]
  },
  {
   "cell_type": "markdown",
   "metadata": {},
   "source": [
    "Most of the passengers are between 20 and 40, however `Age` is missing from many rows."
   ]
  },
  {
   "cell_type": "code",
   "execution_count": 192,
   "metadata": {
    "collapsed": false
   },
   "outputs": [
    {
     "data": {
      "text/plain": [
       "False    0.801347\n",
       "True     0.198653\n",
       "dtype: float64"
      ]
     },
     "execution_count": 192,
     "metadata": {},
     "output_type": "execute_result"
    }
   ],
   "source": [
    "df.Age.isnull().value_counts(normalize=True)"
   ]
  },
  {
   "cell_type": "markdown",
   "metadata": {},
   "source": [
    "About ~20% of rows missing `Age` data. We are going to estimate `Age` for these rows. \n",
    "> Inspired by <https://www.kaggle.com/c/titanic/prospector#1294>"
   ]
  },
  {
   "cell_type": "code",
   "execution_count": 193,
   "metadata": {
    "collapsed": false
   },
   "outputs": [
    {
     "data": {
      "text/html": [
       "<div>\n",
       "<table border=\"1\" class=\"dataframe\">\n",
       "  <thead>\n",
       "    <tr style=\"text-align: right;\">\n",
       "      <th></th>\n",
       "      <th></th>\n",
       "      <th>count</th>\n",
       "      <th>mean</th>\n",
       "      <th>std</th>\n",
       "      <th>min</th>\n",
       "      <th>25%</th>\n",
       "      <th>50%</th>\n",
       "      <th>75%</th>\n",
       "      <th>95%</th>\n",
       "      <th>max</th>\n",
       "    </tr>\n",
       "    <tr>\n",
       "      <th>Pclass</th>\n",
       "      <th>Sex</th>\n",
       "      <th></th>\n",
       "      <th></th>\n",
       "      <th></th>\n",
       "      <th></th>\n",
       "      <th></th>\n",
       "      <th></th>\n",
       "      <th></th>\n",
       "      <th></th>\n",
       "      <th></th>\n",
       "    </tr>\n",
       "  </thead>\n",
       "  <tbody>\n",
       "    <tr>\n",
       "      <th rowspan=\"2\" valign=\"top\">1</th>\n",
       "      <th>female</th>\n",
       "      <td>85</td>\n",
       "      <td>34.611765</td>\n",
       "      <td>13.612052</td>\n",
       "      <td>2.00</td>\n",
       "      <td>23.000</td>\n",
       "      <td>35.0</td>\n",
       "      <td>44.00</td>\n",
       "      <td>58.0</td>\n",
       "      <td>63</td>\n",
       "    </tr>\n",
       "    <tr>\n",
       "      <th>male</th>\n",
       "      <td>101</td>\n",
       "      <td>41.281386</td>\n",
       "      <td>15.139570</td>\n",
       "      <td>0.92</td>\n",
       "      <td>30.000</td>\n",
       "      <td>40.0</td>\n",
       "      <td>51.00</td>\n",
       "      <td>65.0</td>\n",
       "      <td>80</td>\n",
       "    </tr>\n",
       "    <tr>\n",
       "      <th rowspan=\"2\" valign=\"top\">2</th>\n",
       "      <th>female</th>\n",
       "      <td>74</td>\n",
       "      <td>28.722973</td>\n",
       "      <td>12.872702</td>\n",
       "      <td>2.00</td>\n",
       "      <td>22.250</td>\n",
       "      <td>28.0</td>\n",
       "      <td>36.00</td>\n",
       "      <td>50.0</td>\n",
       "      <td>57</td>\n",
       "    </tr>\n",
       "    <tr>\n",
       "      <th>male</th>\n",
       "      <td>99</td>\n",
       "      <td>30.740707</td>\n",
       "      <td>14.793894</td>\n",
       "      <td>0.67</td>\n",
       "      <td>23.000</td>\n",
       "      <td>30.0</td>\n",
       "      <td>36.75</td>\n",
       "      <td>57.2</td>\n",
       "      <td>70</td>\n",
       "    </tr>\n",
       "    <tr>\n",
       "      <th rowspan=\"2\" valign=\"top\">3</th>\n",
       "      <th>female</th>\n",
       "      <td>102</td>\n",
       "      <td>21.750000</td>\n",
       "      <td>12.729964</td>\n",
       "      <td>0.75</td>\n",
       "      <td>14.125</td>\n",
       "      <td>21.5</td>\n",
       "      <td>29.75</td>\n",
       "      <td>44.9</td>\n",
       "      <td>63</td>\n",
       "    </tr>\n",
       "    <tr>\n",
       "      <th>male</th>\n",
       "      <td>253</td>\n",
       "      <td>26.507589</td>\n",
       "      <td>12.159514</td>\n",
       "      <td>0.42</td>\n",
       "      <td>20.000</td>\n",
       "      <td>25.0</td>\n",
       "      <td>33.00</td>\n",
       "      <td>47.0</td>\n",
       "      <td>74</td>\n",
       "    </tr>\n",
       "  </tbody>\n",
       "</table>\n",
       "</div>"
      ],
      "text/plain": [
       "               count       mean        std   min     25%   50%    75%   95%  \\\n",
       "Pclass Sex                                                                    \n",
       "1      female     85  34.611765  13.612052  2.00  23.000  35.0  44.00  58.0   \n",
       "       male      101  41.281386  15.139570  0.92  30.000  40.0  51.00  65.0   \n",
       "2      female     74  28.722973  12.872702  2.00  22.250  28.0  36.00  50.0   \n",
       "       male       99  30.740707  14.793894  0.67  23.000  30.0  36.75  57.2   \n",
       "3      female    102  21.750000  12.729964  0.75  14.125  21.5  29.75  44.9   \n",
       "       male      253  26.507589  12.159514  0.42  20.000  25.0  33.00  47.0   \n",
       "\n",
       "               max  \n",
       "Pclass Sex          \n",
       "1      female   63  \n",
       "       male     80  \n",
       "2      female   57  \n",
       "       male     70  \n",
       "3      female   63  \n",
       "       male     74  "
      ]
     },
     "execution_count": 193,
     "metadata": {},
     "output_type": "execute_result"
    }
   ],
   "source": [
    "# describe Age by Pclass and Sex \n",
    "df.groupby(['Pclass','Sex'])['Age'].describe(percentiles=[.25,.5,.75,.95]).unstack()"
   ]
  },
  {
   "cell_type": "markdown",
   "metadata": {},
   "source": [
    "* `Pclass` and `Sex` makes difference in `Age` distribution, We should consider these 2 factors while estimating missing Age of a passenger.\n",
    "* We would like to use `Title` in the name to estimate `Age` too, that is if `Title` is `Master` we would like to estimate the `Age` by all the `Master` in the given data."
   ]
  },
  {
   "cell_type": "markdown",
   "metadata": {},
   "source": [
    "So lets create a new variable `Title` by parsing `Name`"
   ]
  },
  {
   "cell_type": "code",
   "execution_count": 194,
   "metadata": {
    "collapsed": false
   },
   "outputs": [
    {
     "data": {
      "text/html": [
       "<div>\n",
       "<table border=\"1\" class=\"dataframe\">\n",
       "  <thead>\n",
       "    <tr style=\"text-align: right;\">\n",
       "      <th></th>\n",
       "      <th>Age</th>\n",
       "      <th>Title</th>\n",
       "      <th>Sex</th>\n",
       "    </tr>\n",
       "  </thead>\n",
       "  <tbody>\n",
       "    <tr>\n",
       "      <th>745</th>\n",
       "      <td>70</td>\n",
       "      <td>Capt</td>\n",
       "      <td>male</td>\n",
       "    </tr>\n",
       "    <tr>\n",
       "      <th>647</th>\n",
       "      <td>56</td>\n",
       "      <td>Col</td>\n",
       "      <td>male</td>\n",
       "    </tr>\n",
       "    <tr>\n",
       "      <th>694</th>\n",
       "      <td>60</td>\n",
       "      <td>Col</td>\n",
       "      <td>male</td>\n",
       "    </tr>\n",
       "    <tr>\n",
       "      <th>30</th>\n",
       "      <td>40</td>\n",
       "      <td>Don</td>\n",
       "      <td>male</td>\n",
       "    </tr>\n",
       "    <tr>\n",
       "      <th>317</th>\n",
       "      <td>54</td>\n",
       "      <td>Dr</td>\n",
       "      <td>male</td>\n",
       "    </tr>\n",
       "    <tr>\n",
       "      <th>660</th>\n",
       "      <td>50</td>\n",
       "      <td>Dr</td>\n",
       "      <td>male</td>\n",
       "    </tr>\n",
       "    <tr>\n",
       "      <th>398</th>\n",
       "      <td>23</td>\n",
       "      <td>Dr</td>\n",
       "      <td>male</td>\n",
       "    </tr>\n",
       "    <tr>\n",
       "      <th>766</th>\n",
       "      <td>NaN</td>\n",
       "      <td>Dr</td>\n",
       "      <td>male</td>\n",
       "    </tr>\n",
       "    <tr>\n",
       "      <th>245</th>\n",
       "      <td>44</td>\n",
       "      <td>Dr</td>\n",
       "      <td>male</td>\n",
       "    </tr>\n",
       "    <tr>\n",
       "      <th>632</th>\n",
       "      <td>32</td>\n",
       "      <td>Dr</td>\n",
       "      <td>male</td>\n",
       "    </tr>\n",
       "    <tr>\n",
       "      <th>796</th>\n",
       "      <td>49</td>\n",
       "      <td>Dr</td>\n",
       "      <td>female</td>\n",
       "    </tr>\n",
       "    <tr>\n",
       "      <th>822</th>\n",
       "      <td>38</td>\n",
       "      <td>Jonkheer</td>\n",
       "      <td>male</td>\n",
       "    </tr>\n",
       "    <tr>\n",
       "      <th>556</th>\n",
       "      <td>48</td>\n",
       "      <td>Lady</td>\n",
       "      <td>female</td>\n",
       "    </tr>\n",
       "    <tr>\n",
       "      <th>449</th>\n",
       "      <td>52</td>\n",
       "      <td>Major</td>\n",
       "      <td>male</td>\n",
       "    </tr>\n",
       "    <tr>\n",
       "      <th>536</th>\n",
       "      <td>45</td>\n",
       "      <td>Major</td>\n",
       "      <td>male</td>\n",
       "    </tr>\n",
       "    <tr>\n",
       "      <th>710</th>\n",
       "      <td>24</td>\n",
       "      <td>Mlle</td>\n",
       "      <td>female</td>\n",
       "    </tr>\n",
       "    <tr>\n",
       "      <th>641</th>\n",
       "      <td>24</td>\n",
       "      <td>Mlle</td>\n",
       "      <td>female</td>\n",
       "    </tr>\n",
       "    <tr>\n",
       "      <th>369</th>\n",
       "      <td>24</td>\n",
       "      <td>Mme</td>\n",
       "      <td>female</td>\n",
       "    </tr>\n",
       "    <tr>\n",
       "      <th>443</th>\n",
       "      <td>28</td>\n",
       "      <td>Ms</td>\n",
       "      <td>female</td>\n",
       "    </tr>\n",
       "    <tr>\n",
       "      <th>150</th>\n",
       "      <td>51</td>\n",
       "      <td>Rev</td>\n",
       "      <td>male</td>\n",
       "    </tr>\n",
       "    <tr>\n",
       "      <th>626</th>\n",
       "      <td>57</td>\n",
       "      <td>Rev</td>\n",
       "      <td>male</td>\n",
       "    </tr>\n",
       "    <tr>\n",
       "      <th>149</th>\n",
       "      <td>42</td>\n",
       "      <td>Rev</td>\n",
       "      <td>male</td>\n",
       "    </tr>\n",
       "    <tr>\n",
       "      <th>848</th>\n",
       "      <td>28</td>\n",
       "      <td>Rev</td>\n",
       "      <td>male</td>\n",
       "    </tr>\n",
       "    <tr>\n",
       "      <th>249</th>\n",
       "      <td>54</td>\n",
       "      <td>Rev</td>\n",
       "      <td>male</td>\n",
       "    </tr>\n",
       "    <tr>\n",
       "      <th>886</th>\n",
       "      <td>27</td>\n",
       "      <td>Rev</td>\n",
       "      <td>male</td>\n",
       "    </tr>\n",
       "    <tr>\n",
       "      <th>599</th>\n",
       "      <td>49</td>\n",
       "      <td>Sir</td>\n",
       "      <td>male</td>\n",
       "    </tr>\n",
       "    <tr>\n",
       "      <th>759</th>\n",
       "      <td>33</td>\n",
       "      <td>the Countess</td>\n",
       "      <td>female</td>\n",
       "    </tr>\n",
       "  </tbody>\n",
       "</table>\n",
       "</div>"
      ],
      "text/plain": [
       "     Age         Title     Sex\n",
       "745   70          Capt    male\n",
       "647   56           Col    male\n",
       "694   60           Col    male\n",
       "30    40           Don    male\n",
       "317   54            Dr    male\n",
       "660   50            Dr    male\n",
       "398   23            Dr    male\n",
       "766  NaN            Dr    male\n",
       "245   44            Dr    male\n",
       "632   32            Dr    male\n",
       "796   49            Dr  female\n",
       "822   38      Jonkheer    male\n",
       "556   48          Lady  female\n",
       "449   52         Major    male\n",
       "536   45         Major    male\n",
       "710   24          Mlle  female\n",
       "641   24          Mlle  female\n",
       "369   24           Mme  female\n",
       "443   28            Ms  female\n",
       "150   51           Rev    male\n",
       "626   57           Rev    male\n",
       "149   42           Rev    male\n",
       "848   28           Rev    male\n",
       "249   54           Rev    male\n",
       "886   27           Rev    male\n",
       "599   49           Sir    male\n",
       "759   33  the Countess  female"
      ]
     },
     "execution_count": 194,
     "metadata": {},
     "output_type": "execute_result"
    }
   ],
   "source": [
    "df['Title'] = df.Name.str.split('[.,]').apply(lambda x:x[1].strip())\n",
    "c = df.Title.value_counts(normalize=True)\n",
    "rare_titles = c[c < 0.01].index.tolist() # rare title less than 1%\n",
    "df[df.Title.isin(rare_titles)][['Age','Title','Sex']].sort(columns=['Title'])"
   ]
  },
  {
   "cell_type": "markdown",
   "metadata": {},
   "source": [
    "Since list is small we can look at it manually and come up with mapping to normalize titles."
   ]
  },
  {
   "cell_type": "code",
   "execution_count": 195,
   "metadata": {
    "collapsed": false
   },
   "outputs": [
    {
     "data": {
      "text/html": [
       "<div>\n",
       "<table border=\"1\" class=\"dataframe\">\n",
       "  <thead>\n",
       "    <tr style=\"text-align: right;\">\n",
       "      <th></th>\n",
       "      <th></th>\n",
       "      <th>count</th>\n",
       "      <th>mean</th>\n",
       "      <th>std</th>\n",
       "      <th>min</th>\n",
       "      <th>25%</th>\n",
       "      <th>50%</th>\n",
       "      <th>75%</th>\n",
       "      <th>max</th>\n",
       "    </tr>\n",
       "    <tr>\n",
       "      <th>TitleN</th>\n",
       "      <th>Title</th>\n",
       "      <th></th>\n",
       "      <th></th>\n",
       "      <th></th>\n",
       "      <th></th>\n",
       "      <th></th>\n",
       "      <th></th>\n",
       "      <th></th>\n",
       "      <th></th>\n",
       "    </tr>\n",
       "  </thead>\n",
       "  <tbody>\n",
       "    <tr>\n",
       "      <th>Master</th>\n",
       "      <th>Master</th>\n",
       "      <td>36</td>\n",
       "      <td>4.574167</td>\n",
       "      <td>3.619872</td>\n",
       "      <td>0.42</td>\n",
       "      <td>1.000</td>\n",
       "      <td>3.5</td>\n",
       "      <td>8.00</td>\n",
       "      <td>12</td>\n",
       "    </tr>\n",
       "    <tr>\n",
       "      <th rowspan=\"5\" valign=\"top\">Miss</th>\n",
       "      <th>Miss</th>\n",
       "      <td>146</td>\n",
       "      <td>21.773973</td>\n",
       "      <td>12.990292</td>\n",
       "      <td>0.75</td>\n",
       "      <td>14.125</td>\n",
       "      <td>21.0</td>\n",
       "      <td>30.00</td>\n",
       "      <td>63</td>\n",
       "    </tr>\n",
       "    <tr>\n",
       "      <th>Mlle</th>\n",
       "      <td>2</td>\n",
       "      <td>24.000000</td>\n",
       "      <td>0.000000</td>\n",
       "      <td>24.00</td>\n",
       "      <td>24.000</td>\n",
       "      <td>24.0</td>\n",
       "      <td>24.00</td>\n",
       "      <td>24</td>\n",
       "    </tr>\n",
       "    <tr>\n",
       "      <th>Mme</th>\n",
       "      <td>1</td>\n",
       "      <td>24.000000</td>\n",
       "      <td>NaN</td>\n",
       "      <td>24.00</td>\n",
       "      <td>24.000</td>\n",
       "      <td>24.0</td>\n",
       "      <td>24.00</td>\n",
       "      <td>24</td>\n",
       "    </tr>\n",
       "    <tr>\n",
       "      <th>Ms</th>\n",
       "      <td>1</td>\n",
       "      <td>28.000000</td>\n",
       "      <td>NaN</td>\n",
       "      <td>28.00</td>\n",
       "      <td>28.000</td>\n",
       "      <td>28.0</td>\n",
       "      <td>28.00</td>\n",
       "      <td>28</td>\n",
       "    </tr>\n",
       "    <tr>\n",
       "      <th>the Countess</th>\n",
       "      <td>1</td>\n",
       "      <td>33.000000</td>\n",
       "      <td>NaN</td>\n",
       "      <td>33.00</td>\n",
       "      <td>33.000</td>\n",
       "      <td>33.0</td>\n",
       "      <td>33.00</td>\n",
       "      <td>33</td>\n",
       "    </tr>\n",
       "    <tr>\n",
       "      <th rowspan=\"9\" valign=\"top\">Mr</th>\n",
       "      <th>Capt</th>\n",
       "      <td>1</td>\n",
       "      <td>70.000000</td>\n",
       "      <td>NaN</td>\n",
       "      <td>70.00</td>\n",
       "      <td>70.000</td>\n",
       "      <td>70.0</td>\n",
       "      <td>70.00</td>\n",
       "      <td>70</td>\n",
       "    </tr>\n",
       "    <tr>\n",
       "      <th>Col</th>\n",
       "      <td>2</td>\n",
       "      <td>58.000000</td>\n",
       "      <td>2.828427</td>\n",
       "      <td>56.00</td>\n",
       "      <td>57.000</td>\n",
       "      <td>58.0</td>\n",
       "      <td>59.00</td>\n",
       "      <td>60</td>\n",
       "    </tr>\n",
       "    <tr>\n",
       "      <th>Don</th>\n",
       "      <td>1</td>\n",
       "      <td>40.000000</td>\n",
       "      <td>NaN</td>\n",
       "      <td>40.00</td>\n",
       "      <td>40.000</td>\n",
       "      <td>40.0</td>\n",
       "      <td>40.00</td>\n",
       "      <td>40</td>\n",
       "    </tr>\n",
       "    <tr>\n",
       "      <th>Dr</th>\n",
       "      <td>5</td>\n",
       "      <td>40.600000</td>\n",
       "      <td>12.876335</td>\n",
       "      <td>23.00</td>\n",
       "      <td>32.000</td>\n",
       "      <td>44.0</td>\n",
       "      <td>50.00</td>\n",
       "      <td>54</td>\n",
       "    </tr>\n",
       "    <tr>\n",
       "      <th>Jonkheer</th>\n",
       "      <td>1</td>\n",
       "      <td>38.000000</td>\n",
       "      <td>NaN</td>\n",
       "      <td>38.00</td>\n",
       "      <td>38.000</td>\n",
       "      <td>38.0</td>\n",
       "      <td>38.00</td>\n",
       "      <td>38</td>\n",
       "    </tr>\n",
       "    <tr>\n",
       "      <th>Major</th>\n",
       "      <td>2</td>\n",
       "      <td>48.500000</td>\n",
       "      <td>4.949747</td>\n",
       "      <td>45.00</td>\n",
       "      <td>46.750</td>\n",
       "      <td>48.5</td>\n",
       "      <td>50.25</td>\n",
       "      <td>52</td>\n",
       "    </tr>\n",
       "    <tr>\n",
       "      <th>Mr</th>\n",
       "      <td>398</td>\n",
       "      <td>32.368090</td>\n",
       "      <td>12.708793</td>\n",
       "      <td>11.00</td>\n",
       "      <td>23.000</td>\n",
       "      <td>30.0</td>\n",
       "      <td>39.00</td>\n",
       "      <td>80</td>\n",
       "    </tr>\n",
       "    <tr>\n",
       "      <th>Rev</th>\n",
       "      <td>6</td>\n",
       "      <td>43.166667</td>\n",
       "      <td>13.136463</td>\n",
       "      <td>27.00</td>\n",
       "      <td>31.500</td>\n",
       "      <td>46.5</td>\n",
       "      <td>53.25</td>\n",
       "      <td>57</td>\n",
       "    </tr>\n",
       "    <tr>\n",
       "      <th>Sir</th>\n",
       "      <td>1</td>\n",
       "      <td>49.000000</td>\n",
       "      <td>NaN</td>\n",
       "      <td>49.00</td>\n",
       "      <td>49.000</td>\n",
       "      <td>49.0</td>\n",
       "      <td>49.00</td>\n",
       "      <td>49</td>\n",
       "    </tr>\n",
       "    <tr>\n",
       "      <th rowspan=\"3\" valign=\"top\">Mrs</th>\n",
       "      <th>Dr</th>\n",
       "      <td>1</td>\n",
       "      <td>49.000000</td>\n",
       "      <td>NaN</td>\n",
       "      <td>49.00</td>\n",
       "      <td>49.000</td>\n",
       "      <td>49.0</td>\n",
       "      <td>49.00</td>\n",
       "      <td>49</td>\n",
       "    </tr>\n",
       "    <tr>\n",
       "      <th>Lady</th>\n",
       "      <td>1</td>\n",
       "      <td>48.000000</td>\n",
       "      <td>NaN</td>\n",
       "      <td>48.00</td>\n",
       "      <td>48.000</td>\n",
       "      <td>48.0</td>\n",
       "      <td>48.00</td>\n",
       "      <td>48</td>\n",
       "    </tr>\n",
       "    <tr>\n",
       "      <th>Mrs</th>\n",
       "      <td>108</td>\n",
       "      <td>35.898148</td>\n",
       "      <td>11.433628</td>\n",
       "      <td>14.00</td>\n",
       "      <td>27.750</td>\n",
       "      <td>35.0</td>\n",
       "      <td>44.00</td>\n",
       "      <td>63</td>\n",
       "    </tr>\n",
       "  </tbody>\n",
       "</table>\n",
       "</div>"
      ],
      "text/plain": [
       "                     count       mean        std    min     25%   50%    75%  \\\n",
       "TitleN Title                                                                   \n",
       "Master Master           36   4.574167   3.619872   0.42   1.000   3.5   8.00   \n",
       "Miss   Miss            146  21.773973  12.990292   0.75  14.125  21.0  30.00   \n",
       "       Mlle              2  24.000000   0.000000  24.00  24.000  24.0  24.00   \n",
       "       Mme               1  24.000000        NaN  24.00  24.000  24.0  24.00   \n",
       "       Ms                1  28.000000        NaN  28.00  28.000  28.0  28.00   \n",
       "       the Countess      1  33.000000        NaN  33.00  33.000  33.0  33.00   \n",
       "Mr     Capt              1  70.000000        NaN  70.00  70.000  70.0  70.00   \n",
       "       Col               2  58.000000   2.828427  56.00  57.000  58.0  59.00   \n",
       "       Don               1  40.000000        NaN  40.00  40.000  40.0  40.00   \n",
       "       Dr                5  40.600000  12.876335  23.00  32.000  44.0  50.00   \n",
       "       Jonkheer          1  38.000000        NaN  38.00  38.000  38.0  38.00   \n",
       "       Major             2  48.500000   4.949747  45.00  46.750  48.5  50.25   \n",
       "       Mr              398  32.368090  12.708793  11.00  23.000  30.0  39.00   \n",
       "       Rev               6  43.166667  13.136463  27.00  31.500  46.5  53.25   \n",
       "       Sir               1  49.000000        NaN  49.00  49.000  49.0  49.00   \n",
       "Mrs    Dr                1  49.000000        NaN  49.00  49.000  49.0  49.00   \n",
       "       Lady              1  48.000000        NaN  48.00  48.000  48.0  48.00   \n",
       "       Mrs             108  35.898148  11.433628  14.00  27.750  35.0  44.00   \n",
       "\n",
       "                     max  \n",
       "TitleN Title              \n",
       "Master Master         12  \n",
       "Miss   Miss           63  \n",
       "       Mlle           24  \n",
       "       Mme            24  \n",
       "       Ms             28  \n",
       "       the Countess   33  \n",
       "Mr     Capt           70  \n",
       "       Col            60  \n",
       "       Don            40  \n",
       "       Dr             54  \n",
       "       Jonkheer       38  \n",
       "       Major          52  \n",
       "       Mr             80  \n",
       "       Rev            57  \n",
       "       Sir            49  \n",
       "Mrs    Dr             49  \n",
       "       Lady           48  \n",
       "       Mrs            63  "
      ]
     },
     "execution_count": 195,
     "metadata": {},
     "output_type": "execute_result"
    }
   ],
   "source": [
    "titles_mapping = {\n",
    "    'Mr':['Capt','Col','Don','Jonkheer','Major','Rev','Sir'],\n",
    "    'Miss':['Mlle','Mme','Ms','the Countess'],\n",
    "    'Mrs':['Lady']\n",
    "}\n",
    "# make value -> key map\n",
    "titles_mapping = dict([(v,k) for k,vals in titles_mapping.items() for v in vals])\n",
    "       \n",
    "df['TitleN'] = df['Title'].apply(lambda x: titles_mapping.get(x,x))\n",
    "\n",
    "# 'Dr' is special as its for both male and female\n",
    "df.loc[(df.Title=='Dr') & (df.Sex=='male'),'TitleN'] = 'Mr'\n",
    "df.loc[(df.Title=='Dr') & (df.Sex=='female'),'TitleN'] = 'Mrs'\n",
    "\n",
    "df.groupby(['TitleN','Title'])['Age'].describe().unstack()"
   ]
  },
  {
   "cell_type": "code",
   "execution_count": 196,
   "metadata": {
    "collapsed": false
   },
   "outputs": [
    {
     "data": {
      "text/html": [
       "<div>\n",
       "<table border=\"1\" class=\"dataframe\">\n",
       "  <thead>\n",
       "    <tr style=\"text-align: right;\">\n",
       "      <th></th>\n",
       "      <th>count</th>\n",
       "      <th>mean</th>\n",
       "      <th>std</th>\n",
       "      <th>min</th>\n",
       "      <th>25%</th>\n",
       "      <th>50%</th>\n",
       "      <th>75%</th>\n",
       "      <th>95%</th>\n",
       "      <th>max</th>\n",
       "    </tr>\n",
       "    <tr>\n",
       "      <th>TitleN</th>\n",
       "      <th></th>\n",
       "      <th></th>\n",
       "      <th></th>\n",
       "      <th></th>\n",
       "      <th></th>\n",
       "      <th></th>\n",
       "      <th></th>\n",
       "      <th></th>\n",
       "      <th></th>\n",
       "    </tr>\n",
       "  </thead>\n",
       "  <tbody>\n",
       "    <tr>\n",
       "      <th>Master</th>\n",
       "      <td>36</td>\n",
       "      <td>4.574167</td>\n",
       "      <td>3.619872</td>\n",
       "      <td>0.42</td>\n",
       "      <td>1.00</td>\n",
       "      <td>3.5</td>\n",
       "      <td>8.00</td>\n",
       "      <td>11.00</td>\n",
       "      <td>12</td>\n",
       "    </tr>\n",
       "    <tr>\n",
       "      <th>Miss</th>\n",
       "      <td>151</td>\n",
       "      <td>21.933775</td>\n",
       "      <td>12.817751</td>\n",
       "      <td>0.75</td>\n",
       "      <td>14.75</td>\n",
       "      <td>22.0</td>\n",
       "      <td>30.00</td>\n",
       "      <td>43.50</td>\n",
       "      <td>63</td>\n",
       "    </tr>\n",
       "    <tr>\n",
       "      <th>Mr</th>\n",
       "      <td>417</td>\n",
       "      <td>32.984412</td>\n",
       "      <td>12.988220</td>\n",
       "      <td>11.00</td>\n",
       "      <td>23.00</td>\n",
       "      <td>30.0</td>\n",
       "      <td>40.00</td>\n",
       "      <td>60.00</td>\n",
       "      <td>80</td>\n",
       "    </tr>\n",
       "    <tr>\n",
       "      <th>Mrs</th>\n",
       "      <td>110</td>\n",
       "      <td>36.127273</td>\n",
       "      <td>11.454024</td>\n",
       "      <td>14.00</td>\n",
       "      <td>28.00</td>\n",
       "      <td>35.0</td>\n",
       "      <td>44.75</td>\n",
       "      <td>55.55</td>\n",
       "      <td>63</td>\n",
       "    </tr>\n",
       "  </tbody>\n",
       "</table>\n",
       "</div>"
      ],
      "text/plain": [
       "        count       mean        std    min    25%   50%    75%    95%  max\n",
       "TitleN                                                                    \n",
       "Master     36   4.574167   3.619872   0.42   1.00   3.5   8.00  11.00   12\n",
       "Miss      151  21.933775  12.817751   0.75  14.75  22.0  30.00  43.50   63\n",
       "Mr        417  32.984412  12.988220  11.00  23.00  30.0  40.00  60.00   80\n",
       "Mrs       110  36.127273  11.454024  14.00  28.00  35.0  44.75  55.55   63"
      ]
     },
     "execution_count": 196,
     "metadata": {},
     "output_type": "execute_result"
    }
   ],
   "source": [
    "df.groupby('TitleN')['Age'].describe(percentiles=[.25,.5,.75,.95]).unstack()"
   ]
  },
  {
   "cell_type": "code",
   "execution_count": 197,
   "metadata": {
    "collapsed": false
   },
   "outputs": [
    {
     "data": {
      "text/plain": [
       "TitleN\n",
       "Master    Axes(0.125,0.125;0.775x0.775)\n",
       "Miss      Axes(0.125,0.125;0.775x0.775)\n",
       "Mr        Axes(0.125,0.125;0.775x0.775)\n",
       "Mrs       Axes(0.125,0.125;0.775x0.775)\n",
       "Name: Age, dtype: object"
      ]
     },
     "execution_count": 197,
     "metadata": {},
     "output_type": "execute_result"
    },
    {
     "data": {
      "image/png": "[encoded data removed]",
      "text/plain": [
       "<matplotlib.figure.Figure at 0x21cc9f60>"
      ]
     },
     "metadata": {},
     "output_type": "display_data"
    }
   ],
   "source": [
    "df.groupby('TitleN')['Age'].plot(kind='kde',legend=True)"
   ]
  },
  {
   "cell_type": "markdown",
   "metadata": {},
   "source": [
    "We can look at by `Pclass` too"
   ]
  },
  {
   "cell_type": "code",
   "execution_count": 198,
   "metadata": {
    "collapsed": false
   },
   "outputs": [
    {
     "data": {
      "text/html": [
       "<div>\n",
       "<table border=\"1\" class=\"dataframe\">\n",
       "  <thead>\n",
       "    <tr style=\"text-align: right;\">\n",
       "      <th></th>\n",
       "      <th></th>\n",
       "      <th>count</th>\n",
       "      <th>mean</th>\n",
       "      <th>std</th>\n",
       "      <th>min</th>\n",
       "      <th>25%</th>\n",
       "      <th>50%</th>\n",
       "      <th>75%</th>\n",
       "      <th>max</th>\n",
       "    </tr>\n",
       "    <tr>\n",
       "      <th>TitleN</th>\n",
       "      <th>Pclass</th>\n",
       "      <th></th>\n",
       "      <th></th>\n",
       "      <th></th>\n",
       "      <th></th>\n",
       "      <th></th>\n",
       "      <th></th>\n",
       "      <th></th>\n",
       "      <th></th>\n",
       "    </tr>\n",
       "  </thead>\n",
       "  <tbody>\n",
       "    <tr>\n",
       "      <th rowspan=\"3\" valign=\"top\">Master</th>\n",
       "      <th>1</th>\n",
       "      <td>3</td>\n",
       "      <td>5.306667</td>\n",
       "      <td>5.165475</td>\n",
       "      <td>0.92</td>\n",
       "      <td>2.46</td>\n",
       "      <td>4.0</td>\n",
       "      <td>7.50</td>\n",
       "      <td>11</td>\n",
       "    </tr>\n",
       "    <tr>\n",
       "      <th>2</th>\n",
       "      <td>9</td>\n",
       "      <td>2.258889</td>\n",
       "      <td>2.342634</td>\n",
       "      <td>0.67</td>\n",
       "      <td>0.83</td>\n",
       "      <td>1.0</td>\n",
       "      <td>3.00</td>\n",
       "      <td>8</td>\n",
       "    </tr>\n",
       "    <tr>\n",
       "      <th>3</th>\n",
       "      <td>24</td>\n",
       "      <td>5.350833</td>\n",
       "      <td>3.593608</td>\n",
       "      <td>0.42</td>\n",
       "      <td>2.00</td>\n",
       "      <td>4.0</td>\n",
       "      <td>9.00</td>\n",
       "      <td>12</td>\n",
       "    </tr>\n",
       "    <tr>\n",
       "      <th rowspan=\"3\" valign=\"top\">Miss</th>\n",
       "      <th>1</th>\n",
       "      <td>49</td>\n",
       "      <td>29.693878</td>\n",
       "      <td>12.399940</td>\n",
       "      <td>2.00</td>\n",
       "      <td>22.00</td>\n",
       "      <td>30.0</td>\n",
       "      <td>36.00</td>\n",
       "      <td>63</td>\n",
       "    </tr>\n",
       "    <tr>\n",
       "      <th>2</th>\n",
       "      <td>33</td>\n",
       "      <td>22.560606</td>\n",
       "      <td>13.200235</td>\n",
       "      <td>2.00</td>\n",
       "      <td>13.00</td>\n",
       "      <td>24.0</td>\n",
       "      <td>30.00</td>\n",
       "      <td>50</td>\n",
       "    </tr>\n",
       "    <tr>\n",
       "      <th>3</th>\n",
       "      <td>69</td>\n",
       "      <td>16.123188</td>\n",
       "      <td>9.697315</td>\n",
       "      <td>0.75</td>\n",
       "      <td>9.00</td>\n",
       "      <td>18.0</td>\n",
       "      <td>22.00</td>\n",
       "      <td>45</td>\n",
       "    </tr>\n",
       "    <tr>\n",
       "      <th rowspan=\"3\" valign=\"top\">Mr</th>\n",
       "      <th>1</th>\n",
       "      <td>98</td>\n",
       "      <td>42.382653</td>\n",
       "      <td>13.946104</td>\n",
       "      <td>17.00</td>\n",
       "      <td>31.00</td>\n",
       "      <td>42.0</td>\n",
       "      <td>51.00</td>\n",
       "      <td>80</td>\n",
       "    </tr>\n",
       "    <tr>\n",
       "      <th>2</th>\n",
       "      <td>90</td>\n",
       "      <td>33.588889</td>\n",
       "      <td>12.258127</td>\n",
       "      <td>16.00</td>\n",
       "      <td>25.00</td>\n",
       "      <td>31.0</td>\n",
       "      <td>39.00</td>\n",
       "      <td>70</td>\n",
       "    </tr>\n",
       "    <tr>\n",
       "      <th>3</th>\n",
       "      <td>229</td>\n",
       "      <td>28.724891</td>\n",
       "      <td>10.490946</td>\n",
       "      <td>11.00</td>\n",
       "      <td>21.00</td>\n",
       "      <td>26.0</td>\n",
       "      <td>34.00</td>\n",
       "      <td>74</td>\n",
       "    </tr>\n",
       "    <tr>\n",
       "      <th rowspan=\"3\" valign=\"top\">Mrs</th>\n",
       "      <th>1</th>\n",
       "      <td>36</td>\n",
       "      <td>41.305556</td>\n",
       "      <td>12.404652</td>\n",
       "      <td>17.00</td>\n",
       "      <td>35.00</td>\n",
       "      <td>43.5</td>\n",
       "      <td>50.25</td>\n",
       "      <td>62</td>\n",
       "    </tr>\n",
       "    <tr>\n",
       "      <th>2</th>\n",
       "      <td>41</td>\n",
       "      <td>33.682927</td>\n",
       "      <td>10.318525</td>\n",
       "      <td>14.00</td>\n",
       "      <td>26.00</td>\n",
       "      <td>32.0</td>\n",
       "      <td>41.00</td>\n",
       "      <td>57</td>\n",
       "    </tr>\n",
       "    <tr>\n",
       "      <th>3</th>\n",
       "      <td>33</td>\n",
       "      <td>33.515152</td>\n",
       "      <td>10.031579</td>\n",
       "      <td>15.00</td>\n",
       "      <td>27.00</td>\n",
       "      <td>31.0</td>\n",
       "      <td>40.00</td>\n",
       "      <td>63</td>\n",
       "    </tr>\n",
       "  </tbody>\n",
       "</table>\n",
       "</div>"
      ],
      "text/plain": [
       "               count       mean        std    min    25%   50%    75%  max\n",
       "TitleN Pclass                                                             \n",
       "Master 1           3   5.306667   5.165475   0.92   2.46   4.0   7.50   11\n",
       "       2           9   2.258889   2.342634   0.67   0.83   1.0   3.00    8\n",
       "       3          24   5.350833   3.593608   0.42   2.00   4.0   9.00   12\n",
       "Miss   1          49  29.693878  12.399940   2.00  22.00  30.0  36.00   63\n",
       "       2          33  22.560606  13.200235   2.00  13.00  24.0  30.00   50\n",
       "       3          69  16.123188   9.697315   0.75   9.00  18.0  22.00   45\n",
       "Mr     1          98  42.382653  13.946104  17.00  31.00  42.0  51.00   80\n",
       "       2          90  33.588889  12.258127  16.00  25.00  31.0  39.00   70\n",
       "       3         229  28.724891  10.490946  11.00  21.00  26.0  34.00   74\n",
       "Mrs    1          36  41.305556  12.404652  17.00  35.00  43.5  50.25   62\n",
       "       2          41  33.682927  10.318525  14.00  26.00  32.0  41.00   57\n",
       "       3          33  33.515152  10.031579  15.00  27.00  31.0  40.00   63"
      ]
     },
     "execution_count": 198,
     "metadata": {},
     "output_type": "execute_result"
    }
   ],
   "source": [
    "df.groupby(['TitleN','Pclass'])['Age'].describe().unstack()"
   ]
  },
  {
   "cell_type": "markdown",
   "metadata": {},
   "source": [
    "We will use `mean` by `TitleN` and `Pclass` to estimate age. Since `Pclass` is has effect on the mean Age."
   ]
  },
  {
   "cell_type": "code",
   "execution_count": 199,
   "metadata": {
    "collapsed": false
   },
   "outputs": [],
   "source": [
    "# use mean by 'TitleN' and 'Pclass' as estimate for Age of that 'TitleN' and 'Pclass'\n",
    "\n",
    "age_estimates = df.groupby(['TitleN','Pclass'])['Age'].describe().unstack()['mean'].round(1)\n",
    "\n",
    "#print 'Age: before', df.Age.isnull().sum(), 'null values'\n",
    "\n",
    "for title in df.TitleN.unique():\n",
    "    for pclass in df.Pclass.unique():\n",
    "        df.loc[(df.TitleN==title)&(df.Pclass==pclass)&(df.Age.isnull()),'Age'] = age_estimates[title][pclass]\n",
    "    \n",
    "#print 'Age: after', df.Age.isnull().sum(), 'null values'\n"
   ]
  },
  {
   "cell_type": "markdown",
   "metadata": {},
   "source": [
    "### Now we will to see the effect of 'Age', 'Sex' and 'Pclass' on survival."
   ]
  },
  {
   "cell_type": "code",
   "execution_count": 200,
   "metadata": {
    "collapsed": false
   },
   "outputs": [
    {
     "name": "stdout",
     "output_type": "stream",
     "text": [
      "Missing: Age 0, Sex 0, Pclass 0\n"
     ]
    }
   ],
   "source": [
    "# first check any missing values\n",
    "print 'Missing: Age %d, Sex %d, Pclass %d' % (df.Age.isnull().sum(), df.Sex.isnull().sum(), df.Pclass.isnull().sum())"
   ]
  },
  {
   "cell_type": "code",
   "execution_count": 201,
   "metadata": {
    "collapsed": false
   },
   "outputs": [
    {
     "data": {
      "text/html": [
       "<div>\n",
       "<table border=\"1\" class=\"dataframe\">\n",
       "  <thead>\n",
       "    <tr style=\"text-align: right;\">\n",
       "      <th></th>\n",
       "      <th>AgeBinned</th>\n",
       "      <th>(0, 15]</th>\n",
       "      <th>(15, 30]</th>\n",
       "      <th>(30, 45]</th>\n",
       "      <th>(45, 60]</th>\n",
       "      <th>(60, 75]</th>\n",
       "    </tr>\n",
       "    <tr>\n",
       "      <th>Pclass</th>\n",
       "      <th>Sex</th>\n",
       "      <th></th>\n",
       "      <th></th>\n",
       "      <th></th>\n",
       "      <th></th>\n",
       "      <th></th>\n",
       "    </tr>\n",
       "  </thead>\n",
       "  <tbody>\n",
       "    <tr>\n",
       "      <th rowspan=\"2\" valign=\"top\">1</th>\n",
       "      <th>female</th>\n",
       "      <td>0.67</td>\n",
       "      <td>0.97</td>\n",
       "      <td>1.00</td>\n",
       "      <td>0.94</td>\n",
       "      <td>1.00</td>\n",
       "    </tr>\n",
       "    <tr>\n",
       "      <th>male</th>\n",
       "      <td>1.00</td>\n",
       "      <td>0.43</td>\n",
       "      <td>0.39</td>\n",
       "      <td>0.33</td>\n",
       "      <td>0.00</td>\n",
       "    </tr>\n",
       "    <tr>\n",
       "      <th rowspan=\"2\" valign=\"top\">2</th>\n",
       "      <th>female</th>\n",
       "      <td>1.00</td>\n",
       "      <td>0.92</td>\n",
       "      <td>0.91</td>\n",
       "      <td>0.86</td>\n",
       "      <td>NaN</td>\n",
       "    </tr>\n",
       "    <tr>\n",
       "      <th>male</th>\n",
       "      <td>1.00</td>\n",
       "      <td>0.02</td>\n",
       "      <td>0.15</td>\n",
       "      <td>0.00</td>\n",
       "      <td>0.33</td>\n",
       "    </tr>\n",
       "    <tr>\n",
       "      <th rowspan=\"2\" valign=\"top\">3</th>\n",
       "      <th>female</th>\n",
       "      <td>0.53</td>\n",
       "      <td>0.52</td>\n",
       "      <td>0.41</td>\n",
       "      <td>0.00</td>\n",
       "      <td>1.00</td>\n",
       "    </tr>\n",
       "    <tr>\n",
       "      <th>male</th>\n",
       "      <td>0.34</td>\n",
       "      <td>0.11</td>\n",
       "      <td>0.14</td>\n",
       "      <td>0.00</td>\n",
       "      <td>0.00</td>\n",
       "    </tr>\n",
       "  </tbody>\n",
       "</table>\n",
       "</div>"
      ],
      "text/plain": [
       "AgeBinned      (0, 15]  (15, 30]  (30, 45]  (45, 60]  (60, 75]\n",
       "Pclass Sex                                                    \n",
       "1      female     0.67      0.97      1.00      0.94      1.00\n",
       "       male       1.00      0.43      0.39      0.33      0.00\n",
       "2      female     1.00      0.92      0.91      0.86       NaN\n",
       "       male       1.00      0.02      0.15      0.00      0.33\n",
       "3      female     0.53      0.52      0.41      0.00      1.00\n",
       "       male       0.34      0.11      0.14      0.00      0.00"
      ]
     },
     "execution_count": 201,
     "metadata": {},
     "output_type": "execute_result"
    }
   ],
   "source": [
    "# now we create bins of Age intervals\n",
    "df['AgeBinned'] = pd.cut(df.Age, range(df.Age.min().astype(int),df.Age.max().astype(int)+1,15))\n",
    "\n",
    "# create dataframe with %Survived\n",
    "d = df.groupby(['Pclass','Sex','AgeBinned'])['Survived'].agg(['count','sum'])\n",
    "d.columns = ['Total','Survived']\n",
    "d['%Survived'] = (d['Survived']/d['Total']).round(2)\n",
    "d['%Survived'].unstack()"
   ]
  },
  {
   "cell_type": "code",
   "execution_count": 202,
   "metadata": {
    "collapsed": false
   },
   "outputs": [
    {
     "data": {
      "image/png": "[encoded data removed]",
      "text/plain": [
       "<matplotlib.figure.Figure at 0x22875a20>"
      ]
     },
     "metadata": {},
     "output_type": "display_data"
    }
   ],
   "source": [
    "pclasses = d.index.get_level_values('Pclass').unique()\n",
    "f, ax = plt.subplots(len(pclasses),1,figsize=(10, 5))\n",
    "for i, pclass in enumerate(pclasses):\n",
    "    d.xs(pclass,level='Pclass')['%Survived'].reset_index().pivot(\n",
    "        index='AgeBinned',columns='Sex',values='%Survived').plot(\n",
    "        kind='bar', ax=ax[i], sharex=True, legend=i==0,title='Pclass %s' % pclass)"
   ]
  },
  {
   "cell_type": "markdown",
   "metadata": {},
   "source": [
    "Male in `Pclass` 3 between `Age` 15-45 had very less chances of survival."
   ]
  }
 ],
 "metadata": {
  "kernelspec": {
   "display_name": "Python 2",
   "language": "python",
   "name": "python2"
  },
  "language_info": {
   "codemirror_mode": {
    "name": "ipython",
    "version": 2
   },
   "file_extension": ".py",
   "mimetype": "text/x-python",
   "name": "python",
   "nbconvert_exporter": "python",
   "pygments_lexer": "ipython2",
   "version": "2.7.10"
  }
 },
 "nbformat": 4,
 "nbformat_minor": 0
}
